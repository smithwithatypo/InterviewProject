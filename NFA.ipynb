{
 "cells": [
  {
   "cell_type": "code",
   "execution_count": 1,
   "metadata": {},
   "outputs": [],
   "source": [
    "import pandas as pd\n",
    "import numpy as np"
   ]
  },
  {
   "cell_type": "code",
   "execution_count": 2,
   "metadata": {},
   "outputs": [],
   "source": [
    "df = pd.read_csv('NFA2018.csv')"
   ]
  },
  {
   "cell_type": "code",
   "execution_count": 3,
   "metadata": {},
   "outputs": [
    {
     "data": {
      "text/html": [
       "<div>\n",
       "<style scoped>\n",
       "    .dataframe tbody tr th:only-of-type {\n",
       "        vertical-align: middle;\n",
       "    }\n",
       "\n",
       "    .dataframe tbody tr th {\n",
       "        vertical-align: top;\n",
       "    }\n",
       "\n",
       "    .dataframe thead th {\n",
       "        text-align: right;\n",
       "    }\n",
       "</style>\n",
       "<table border=\"1\" class=\"dataframe\">\n",
       "  <thead>\n",
       "    <tr style=\"text-align: right;\">\n",
       "      <th></th>\n",
       "      <th>country</th>\n",
       "      <th>ISO alpha-3 code</th>\n",
       "      <th>UN_region</th>\n",
       "      <th>UN_subregion</th>\n",
       "      <th>year</th>\n",
       "      <th>record</th>\n",
       "      <th>crop_land</th>\n",
       "      <th>grazing_land</th>\n",
       "      <th>forest_land</th>\n",
       "      <th>fishing_ground</th>\n",
       "      <th>built_up_land</th>\n",
       "      <th>carbon</th>\n",
       "      <th>total</th>\n",
       "      <th>Percapita GDP (2010 USD)</th>\n",
       "      <th>population</th>\n",
       "    </tr>\n",
       "  </thead>\n",
       "  <tbody>\n",
       "    <tr>\n",
       "      <th>0</th>\n",
       "      <td>Armenia</td>\n",
       "      <td>ARM</td>\n",
       "      <td>Asia</td>\n",
       "      <td>Western Asia</td>\n",
       "      <td>1992</td>\n",
       "      <td>BiocapPerCap</td>\n",
       "      <td>1.611286e-01</td>\n",
       "      <td>0.135023</td>\n",
       "      <td>0.083836</td>\n",
       "      <td>0.013718</td>\n",
       "      <td>0.033669</td>\n",
       "      <td>0.000000e+00</td>\n",
       "      <td>4.273741e-01</td>\n",
       "      <td>949.033</td>\n",
       "      <td>3449000</td>\n",
       "    </tr>\n",
       "    <tr>\n",
       "      <th>1</th>\n",
       "      <td>Armenia</td>\n",
       "      <td>ARM</td>\n",
       "      <td>Asia</td>\n",
       "      <td>Western Asia</td>\n",
       "      <td>1992</td>\n",
       "      <td>BiocapTotGHA</td>\n",
       "      <td>5.558130e+05</td>\n",
       "      <td>465763.337400</td>\n",
       "      <td>289190.662300</td>\n",
       "      <td>47320.224590</td>\n",
       "      <td>116139.598200</td>\n",
       "      <td>0.000000e+00</td>\n",
       "      <td>1.474227e+06</td>\n",
       "      <td>949.033</td>\n",
       "      <td>3449000</td>\n",
       "    </tr>\n",
       "    <tr>\n",
       "      <th>2</th>\n",
       "      <td>Armenia</td>\n",
       "      <td>ARM</td>\n",
       "      <td>Asia</td>\n",
       "      <td>Western Asia</td>\n",
       "      <td>1992</td>\n",
       "      <td>EFConsPerCap</td>\n",
       "      <td>3.909225e-01</td>\n",
       "      <td>0.189137</td>\n",
       "      <td>0.000001</td>\n",
       "      <td>0.004138</td>\n",
       "      <td>0.033669</td>\n",
       "      <td>1.112225e+00</td>\n",
       "      <td>1.730092e+00</td>\n",
       "      <td>949.033</td>\n",
       "      <td>3449000</td>\n",
       "    </tr>\n",
       "    <tr>\n",
       "      <th>3</th>\n",
       "      <td>Armenia</td>\n",
       "      <td>ARM</td>\n",
       "      <td>Asia</td>\n",
       "      <td>Western Asia</td>\n",
       "      <td>1992</td>\n",
       "      <td>EFConsTotGHA</td>\n",
       "      <td>1.348487e+06</td>\n",
       "      <td>652429.066600</td>\n",
       "      <td>4.327841</td>\n",
       "      <td>14272.803690</td>\n",
       "      <td>116139.598200</td>\n",
       "      <td>3.836620e+06</td>\n",
       "      <td>5.967954e+06</td>\n",
       "      <td>949.033</td>\n",
       "      <td>3449000</td>\n",
       "    </tr>\n",
       "    <tr>\n",
       "      <th>4</th>\n",
       "      <td>Armenia</td>\n",
       "      <td>ARM</td>\n",
       "      <td>Asia</td>\n",
       "      <td>Western Asia</td>\n",
       "      <td>1992</td>\n",
       "      <td>EFExportsPerCap</td>\n",
       "      <td>1.124910e-03</td>\n",
       "      <td>0.002283</td>\n",
       "      <td>0.000000</td>\n",
       "      <td>0.000438</td>\n",
       "      <td>0.000000</td>\n",
       "      <td>4.819043e-02</td>\n",
       "      <td>5.203676e-02</td>\n",
       "      <td>949.033</td>\n",
       "      <td>3449000</td>\n",
       "    </tr>\n",
       "  </tbody>\n",
       "</table>\n",
       "</div>"
      ],
      "text/plain": [
       "   country ISO alpha-3 code UN_region  UN_subregion  year           record  \\\n",
       "0  Armenia              ARM      Asia  Western Asia  1992     BiocapPerCap   \n",
       "1  Armenia              ARM      Asia  Western Asia  1992     BiocapTotGHA   \n",
       "2  Armenia              ARM      Asia  Western Asia  1992     EFConsPerCap   \n",
       "3  Armenia              ARM      Asia  Western Asia  1992     EFConsTotGHA   \n",
       "4  Armenia              ARM      Asia  Western Asia  1992  EFExportsPerCap   \n",
       "\n",
       "      crop_land   grazing_land    forest_land  fishing_ground  built_up_land  \\\n",
       "0  1.611286e-01       0.135023       0.083836        0.013718       0.033669   \n",
       "1  5.558130e+05  465763.337400  289190.662300    47320.224590  116139.598200   \n",
       "2  3.909225e-01       0.189137       0.000001        0.004138       0.033669   \n",
       "3  1.348487e+06  652429.066600       4.327841    14272.803690  116139.598200   \n",
       "4  1.124910e-03       0.002283       0.000000        0.000438       0.000000   \n",
       "\n",
       "         carbon         total  Percapita GDP (2010 USD)  population  \n",
       "0  0.000000e+00  4.273741e-01                   949.033     3449000  \n",
       "1  0.000000e+00  1.474227e+06                   949.033     3449000  \n",
       "2  1.112225e+00  1.730092e+00                   949.033     3449000  \n",
       "3  3.836620e+06  5.967954e+06                   949.033     3449000  \n",
       "4  4.819043e-02  5.203676e-02                   949.033     3449000  "
      ]
     },
     "execution_count": 3,
     "metadata": {},
     "output_type": "execute_result"
    }
   ],
   "source": [
    "df.head()"
   ]
  },
  {
   "cell_type": "code",
   "execution_count": 4,
   "metadata": {},
   "outputs": [
    {
     "data": {
      "text/plain": [
       "Index(['country', 'ISO alpha-3 code', 'UN_region', 'UN_subregion', 'year',\n",
       "       'record', 'crop_land', 'grazing_land', 'forest_land', 'fishing_ground',\n",
       "       'built_up_land', 'carbon', 'total', 'Percapita GDP (2010 USD)',\n",
       "       'population'],\n",
       "      dtype='object')"
      ]
     },
     "execution_count": 4,
     "metadata": {},
     "output_type": "execute_result"
    }
   ],
   "source": [
    "df.columns"
   ]
  },
  {
   "cell_type": "code",
   "execution_count": 5,
   "metadata": {},
   "outputs": [],
   "source": [
    "df.drop(['ISO alpha-3 code', 'UN_region', 'UN_subregion', \n",
    "       'record', 'crop_land', 'grazing_land', 'forest_land', 'fishing_ground',\n",
    "       'built_up_land', 'carbon', 'total'], inplace=True, axis=1)"
   ]
  },
  {
   "cell_type": "code",
   "execution_count": 6,
   "metadata": {},
   "outputs": [
    {
     "data": {
      "text/html": [
       "<div>\n",
       "<style scoped>\n",
       "    .dataframe tbody tr th:only-of-type {\n",
       "        vertical-align: middle;\n",
       "    }\n",
       "\n",
       "    .dataframe tbody tr th {\n",
       "        vertical-align: top;\n",
       "    }\n",
       "\n",
       "    .dataframe thead th {\n",
       "        text-align: right;\n",
       "    }\n",
       "</style>\n",
       "<table border=\"1\" class=\"dataframe\">\n",
       "  <thead>\n",
       "    <tr style=\"text-align: right;\">\n",
       "      <th></th>\n",
       "      <th>country</th>\n",
       "      <th>year</th>\n",
       "      <th>Percapita GDP (2010 USD)</th>\n",
       "      <th>population</th>\n",
       "    </tr>\n",
       "  </thead>\n",
       "  <tbody>\n",
       "    <tr>\n",
       "      <th>0</th>\n",
       "      <td>Armenia</td>\n",
       "      <td>1992</td>\n",
       "      <td>949.033</td>\n",
       "      <td>3449000</td>\n",
       "    </tr>\n",
       "    <tr>\n",
       "      <th>1</th>\n",
       "      <td>Armenia</td>\n",
       "      <td>1992</td>\n",
       "      <td>949.033</td>\n",
       "      <td>3449000</td>\n",
       "    </tr>\n",
       "    <tr>\n",
       "      <th>2</th>\n",
       "      <td>Armenia</td>\n",
       "      <td>1992</td>\n",
       "      <td>949.033</td>\n",
       "      <td>3449000</td>\n",
       "    </tr>\n",
       "    <tr>\n",
       "      <th>3</th>\n",
       "      <td>Armenia</td>\n",
       "      <td>1992</td>\n",
       "      <td>949.033</td>\n",
       "      <td>3449000</td>\n",
       "    </tr>\n",
       "    <tr>\n",
       "      <th>4</th>\n",
       "      <td>Armenia</td>\n",
       "      <td>1992</td>\n",
       "      <td>949.033</td>\n",
       "      <td>3449000</td>\n",
       "    </tr>\n",
       "  </tbody>\n",
       "</table>\n",
       "</div>"
      ],
      "text/plain": [
       "   country  year  Percapita GDP (2010 USD)  population\n",
       "0  Armenia  1992                   949.033     3449000\n",
       "1  Armenia  1992                   949.033     3449000\n",
       "2  Armenia  1992                   949.033     3449000\n",
       "3  Armenia  1992                   949.033     3449000\n",
       "4  Armenia  1992                   949.033     3449000"
      ]
     },
     "execution_count": 6,
     "metadata": {},
     "output_type": "execute_result"
    }
   ],
   "source": [
    "df.head()"
   ]
  },
  {
   "cell_type": "code",
   "execution_count": 7,
   "metadata": {},
   "outputs": [
    {
     "data": {
      "text/html": [
       "<div>\n",
       "<style scoped>\n",
       "    .dataframe tbody tr th:only-of-type {\n",
       "        vertical-align: middle;\n",
       "    }\n",
       "\n",
       "    .dataframe tbody tr th {\n",
       "        vertical-align: top;\n",
       "    }\n",
       "\n",
       "    .dataframe thead th {\n",
       "        text-align: right;\n",
       "    }\n",
       "</style>\n",
       "<table border=\"1\" class=\"dataframe\">\n",
       "  <thead>\n",
       "    <tr style=\"text-align: right;\">\n",
       "      <th></th>\n",
       "      <th>country</th>\n",
       "      <th>year</th>\n",
       "      <th>Percapita GDP (2010 USD)</th>\n",
       "      <th>population</th>\n",
       "    </tr>\n",
       "  </thead>\n",
       "  <tbody>\n",
       "    <tr>\n",
       "      <th>14335</th>\n",
       "      <td>Chile</td>\n",
       "      <td>1965</td>\n",
       "      <td>4089.780</td>\n",
       "      <td>8612000</td>\n",
       "    </tr>\n",
       "    <tr>\n",
       "      <th>45684</th>\n",
       "      <td>Malawi</td>\n",
       "      <td>1975</td>\n",
       "      <td>374.134</td>\n",
       "      <td>5293000</td>\n",
       "    </tr>\n",
       "    <tr>\n",
       "      <th>5375</th>\n",
       "      <td>Barbados</td>\n",
       "      <td>1983</td>\n",
       "      <td>NaN</td>\n",
       "      <td>255000</td>\n",
       "    </tr>\n",
       "    <tr>\n",
       "      <th>69092</th>\n",
       "      <td>South Africa</td>\n",
       "      <td>2000</td>\n",
       "      <td>5946.000</td>\n",
       "      <td>44897000</td>\n",
       "    </tr>\n",
       "    <tr>\n",
       "      <th>18611</th>\n",
       "      <td>Benin</td>\n",
       "      <td>1963</td>\n",
       "      <td>519.131</td>\n",
       "      <td>2543000</td>\n",
       "    </tr>\n",
       "  </tbody>\n",
       "</table>\n",
       "</div>"
      ],
      "text/plain": [
       "            country  year  Percapita GDP (2010 USD)  population\n",
       "14335         Chile  1965                  4089.780     8612000\n",
       "45684        Malawi  1975                   374.134     5293000\n",
       "5375       Barbados  1983                       NaN      255000\n",
       "69092  South Africa  2000                  5946.000    44897000\n",
       "18611         Benin  1963                   519.131     2543000"
      ]
     },
     "execution_count": 7,
     "metadata": {},
     "output_type": "execute_result"
    }
   ],
   "source": [
    "df.sample(5)"
   ]
  },
  {
   "cell_type": "code",
   "execution_count": 8,
   "metadata": {},
   "outputs": [],
   "source": [
    "df['GDP'] = df['Percapita GDP (2010 USD)']"
   ]
  },
  {
   "cell_type": "code",
   "execution_count": 9,
   "metadata": {},
   "outputs": [],
   "source": [
    "df.drop(['Percapita GDP (2010 USD)'], inplace=True, axis=1)"
   ]
  },
  {
   "cell_type": "code",
   "execution_count": 10,
   "metadata": {},
   "outputs": [
    {
     "data": {
      "text/html": [
       "<div>\n",
       "<style scoped>\n",
       "    .dataframe tbody tr th:only-of-type {\n",
       "        vertical-align: middle;\n",
       "    }\n",
       "\n",
       "    .dataframe tbody tr th {\n",
       "        vertical-align: top;\n",
       "    }\n",
       "\n",
       "    .dataframe thead th {\n",
       "        text-align: right;\n",
       "    }\n",
       "</style>\n",
       "<table border=\"1\" class=\"dataframe\">\n",
       "  <thead>\n",
       "    <tr style=\"text-align: right;\">\n",
       "      <th></th>\n",
       "      <th>country</th>\n",
       "      <th>year</th>\n",
       "      <th>population</th>\n",
       "      <th>GDP</th>\n",
       "    </tr>\n",
       "  </thead>\n",
       "  <tbody>\n",
       "    <tr>\n",
       "      <th>0</th>\n",
       "      <td>Armenia</td>\n",
       "      <td>1992</td>\n",
       "      <td>3449000</td>\n",
       "      <td>949.033</td>\n",
       "    </tr>\n",
       "    <tr>\n",
       "      <th>1</th>\n",
       "      <td>Armenia</td>\n",
       "      <td>1992</td>\n",
       "      <td>3449000</td>\n",
       "      <td>949.033</td>\n",
       "    </tr>\n",
       "    <tr>\n",
       "      <th>2</th>\n",
       "      <td>Armenia</td>\n",
       "      <td>1992</td>\n",
       "      <td>3449000</td>\n",
       "      <td>949.033</td>\n",
       "    </tr>\n",
       "    <tr>\n",
       "      <th>3</th>\n",
       "      <td>Armenia</td>\n",
       "      <td>1992</td>\n",
       "      <td>3449000</td>\n",
       "      <td>949.033</td>\n",
       "    </tr>\n",
       "    <tr>\n",
       "      <th>4</th>\n",
       "      <td>Armenia</td>\n",
       "      <td>1992</td>\n",
       "      <td>3449000</td>\n",
       "      <td>949.033</td>\n",
       "    </tr>\n",
       "  </tbody>\n",
       "</table>\n",
       "</div>"
      ],
      "text/plain": [
       "   country  year  population      GDP\n",
       "0  Armenia  1992     3449000  949.033\n",
       "1  Armenia  1992     3449000  949.033\n",
       "2  Armenia  1992     3449000  949.033\n",
       "3  Armenia  1992     3449000  949.033\n",
       "4  Armenia  1992     3449000  949.033"
      ]
     },
     "execution_count": 10,
     "metadata": {},
     "output_type": "execute_result"
    }
   ],
   "source": [
    "df.head()"
   ]
  },
  {
   "cell_type": "code",
   "execution_count": 11,
   "metadata": {},
   "outputs": [
    {
     "data": {
      "text/html": [
       "<div>\n",
       "<style scoped>\n",
       "    .dataframe tbody tr th:only-of-type {\n",
       "        vertical-align: middle;\n",
       "    }\n",
       "\n",
       "    .dataframe tbody tr th {\n",
       "        vertical-align: top;\n",
       "    }\n",
       "\n",
       "    .dataframe thead th {\n",
       "        text-align: right;\n",
       "    }\n",
       "</style>\n",
       "<table border=\"1\" class=\"dataframe\">\n",
       "  <thead>\n",
       "    <tr style=\"text-align: right;\">\n",
       "      <th></th>\n",
       "      <th>country</th>\n",
       "      <th>year</th>\n",
       "      <th>population</th>\n",
       "      <th>GDP</th>\n",
       "    </tr>\n",
       "  </thead>\n",
       "  <tbody>\n",
       "    <tr>\n",
       "      <th>87015</th>\n",
       "      <td>Luxembourg</td>\n",
       "      <td>1999</td>\n",
       "      <td>446000</td>\n",
       "      <td>87516.4</td>\n",
       "    </tr>\n",
       "    <tr>\n",
       "      <th>87016</th>\n",
       "      <td>Luxembourg</td>\n",
       "      <td>1999</td>\n",
       "      <td>446000</td>\n",
       "      <td>87516.4</td>\n",
       "    </tr>\n",
       "    <tr>\n",
       "      <th>87017</th>\n",
       "      <td>Luxembourg</td>\n",
       "      <td>1999</td>\n",
       "      <td>446000</td>\n",
       "      <td>87516.4</td>\n",
       "    </tr>\n",
       "    <tr>\n",
       "      <th>87018</th>\n",
       "      <td>Luxembourg</td>\n",
       "      <td>1999</td>\n",
       "      <td>446000</td>\n",
       "      <td>87516.4</td>\n",
       "    </tr>\n",
       "    <tr>\n",
       "      <th>87019</th>\n",
       "      <td>Luxembourg</td>\n",
       "      <td>1999</td>\n",
       "      <td>446000</td>\n",
       "      <td>87516.4</td>\n",
       "    </tr>\n",
       "  </tbody>\n",
       "</table>\n",
       "</div>"
      ],
      "text/plain": [
       "          country  year  population      GDP\n",
       "87015  Luxembourg  1999      446000  87516.4\n",
       "87016  Luxembourg  1999      446000  87516.4\n",
       "87017  Luxembourg  1999      446000  87516.4\n",
       "87018  Luxembourg  1999      446000  87516.4\n",
       "87019  Luxembourg  1999      446000  87516.4"
      ]
     },
     "execution_count": 11,
     "metadata": {},
     "output_type": "execute_result"
    }
   ],
   "source": [
    "df.tail()"
   ]
  },
  {
   "cell_type": "code",
   "execution_count": 12,
   "metadata": {},
   "outputs": [],
   "source": [
    "# df.drop_duplicates(subset='country', inplace=True) ----- doesn't work right"
   ]
  },
  {
   "cell_type": "code",
   "execution_count": 13,
   "metadata": {},
   "outputs": [],
   "source": [
    "# gets rid of the 9 duplicate entries\n",
    "empty=[]\n",
    "for i in df.index:\n",
    "    if i % 10 == 0:\n",
    "        empty.append(df.loc[i])\n",
    "        i+=1"
   ]
  },
  {
   "cell_type": "code",
   "execution_count": 14,
   "metadata": {},
   "outputs": [
    {
     "data": {
      "text/plain": [
       "[country       Armenia\n",
       " year             1992\n",
       " population    3449000\n",
       " GDP           949.033\n",
       " Name: 0, dtype: object, country       Armenia\n",
       " year             1993\n",
       " population    3370000\n",
       " GDP           886.033\n",
       " Name: 10, dtype: object]"
      ]
     },
     "execution_count": 14,
     "metadata": {},
     "output_type": "execute_result"
    }
   ],
   "source": [
    "empty[:2]"
   ]
  },
  {
   "cell_type": "code",
   "execution_count": 15,
   "metadata": {},
   "outputs": [],
   "source": [
    "test = pd.DataFrame(empty)"
   ]
  },
  {
   "cell_type": "code",
   "execution_count": 16,
   "metadata": {},
   "outputs": [
    {
     "data": {
      "text/plain": [
       "8702"
      ]
     },
     "execution_count": 16,
     "metadata": {},
     "output_type": "execute_result"
    }
   ],
   "source": [
    "test['country'].count()"
   ]
  },
  {
   "cell_type": "code",
   "execution_count": 17,
   "metadata": {},
   "outputs": [],
   "source": [
    "countryMatchNFA = test['country'].unique()"
   ]
  },
  {
   "cell_type": "code",
   "execution_count": 18,
   "metadata": {},
   "outputs": [
    {
     "name": "stdout",
     "output_type": "stream",
     "text": [
      "Antigua and Barbuda\n",
      "Brunei Darussalam\n",
      "Cabo Verde\n",
      "Cayman Islands\n",
      "Central African Republic\n",
      "Sri Lanka\n",
      "Cook Islands\n",
      "Costa Rica\n",
      "Dominican Republic\n",
      "El Salvador\n",
      "Equatorial Guinea\n",
      "Ethiopia PDR\n",
      "French Guiana\n",
      "French Polynesia\n",
      "Bosnia and Herzegovina\n",
      "Iran, Islamic Republic of\n",
      "Côte d'Ivoire\n",
      "Korea, Democratic People's Republic of\n",
      "Korea, Republic of\n",
      "Lao People's Democratic Republic\n",
      "Libyan Arab Jamahiriya\n",
      "Micronesia, Federated States of\n",
      "Macedonia TFYR\n",
      "New Zealand\n",
      "Czech Republic\n",
      "Papua New Guinea\n",
      "Russian Federation\n",
      "Serbia and Montenegro\n",
      "Saint Lucia\n",
      "Sao Tome and Principe\n",
      "Saudi Arabia\n",
      "Sierra Leone\n",
      "South Africa\n",
      "Sudan (former)\n",
      "Syrian Arab Republic\n",
      "Tanzania, United Republic of\n",
      "Trinidad and Tobago\n",
      "United Arab Emirates\n",
      "United Kingdom\n",
      "United States of America\n",
      "Burkina Faso\n",
      "Venezuela, Bolivarian Republic of\n",
      "Viet Nam\n",
      "Yugoslav SFR\n",
      "Congo, Democratic Republic of\n",
      "South Sudan\n"
     ]
    }
   ],
   "source": [
    "for i in countryMatchNFA:\n",
    "    if ' ' in i:\n",
    "        print(i)"
   ]
  },
  {
   "cell_type": "code",
   "execution_count": 19,
   "metadata": {},
   "outputs": [],
   "source": [
    "countryMatch = {\n",
    "    'United States of America': 'USA',\n",
    "    'Russian Federation': 'Russia',\n",
    "    'Viet Nam': 'Vietnam',\n",
    "    'Syrian Arab Republic': 'Syria',\n",
    "    \"Korea, Democratic People's Republic of\": 'North Korea',\n",
    "    'Korea, Republic of': 'South Korea',\n",
    "    'Congo, Democratic Republic of': 'Congo',\n",
    "    'United Kingdom': 'UK',\n",
    "    'Russian Federation': 'Russia',\n",
    "    'Sudan (former)': 'Sudan',\n",
    "    'Macedonia TFYR': 'Macedonia',\n",
    "    'Ethiopia PDR': 'Ethiopia',\n",
    "}"
   ]
  },
  {
   "cell_type": "code",
   "execution_count": 20,
   "metadata": {},
   "outputs": [
    {
     "name": "stdout",
     "output_type": "stream",
     "text": [
      "8702\n"
     ]
    }
   ],
   "source": [
    "total=0\n",
    "for i in test['country']:\n",
    "    total+=1\n",
    "print(total)"
   ]
  },
  {
   "cell_type": "code",
   "execution_count": 55,
   "metadata": {},
   "outputs": [],
   "source": [
    "# convert country names to match Olympics database\n",
    "for name in test['country'].iteritems():\n",
    "    if name[1] in countryMatch:\n",
    "        new = countryMatch.get(name[1])\n",
    "        test['country'].replace(name[1], new, inplace=True)"
   ]
  },
  {
   "cell_type": "code",
   "execution_count": 56,
   "metadata": {},
   "outputs": [
    {
     "data": {
      "text/plain": [
       "array(['Armenia', 'Afghanistan', 'Algeria', 'Argentina', 'Australia',\n",
       "       'Austria', 'Bahamas', 'Bahrain', 'Barbados', 'Bermuda', 'Botswana',\n",
       "       'Brazil', 'Bulgaria', 'Burundi', 'Cameroon', 'Canada', 'Sri Lanka',\n",
       "       'Chile', 'Colombia', 'Costa Rica', 'Cuba', 'Cyprus', 'Azerbaijan',\n",
       "       'Denmark', 'Dominican Republic', 'Belarus', 'Ecuador', 'Egypt',\n",
       "       'Ethiopia', 'Estonia', 'Fiji', 'Finland', 'France', 'Djibouti',\n",
       "       'Georgia', 'Gabon', 'Germany', 'Ghana', 'Greece', 'Grenada',\n",
       "       'Guatemala', 'Guyana', 'Haiti', 'Hungary', 'Croatia', 'India',\n",
       "       'Indonesia', 'Iraq', 'Ireland', 'Israel', 'Italy', 'Kazakhstan',\n",
       "       'Jamaica', 'Japan', 'Jordan', 'Kyrgyzstan', 'Kenya', 'North Korea',\n",
       "       'South Korea', 'Kuwait', 'Latvia', 'Lebanon', 'Lithuania',\n",
       "       'Malaysia', 'Mauritius', 'Mexico', 'Mongolia', 'Morocco',\n",
       "       'Mozambique', 'Moldova', 'Namibia', 'Nepal', 'Netherlands',\n",
       "       'Macedonia', 'New Zealand', 'Niger', 'Nigeria', 'Norway',\n",
       "       'Pakistan', 'Panama', 'Czech Republic', 'Paraguay', 'Peru',\n",
       "       'Philippines', 'Poland', 'Portugal', 'Eritrea', 'Qatar',\n",
       "       'Zimbabwe', 'Romania', 'Russia', 'Saudi Arabia', 'Senegal',\n",
       "       'Slovenia', 'Slovakia', 'South Africa', 'Spain', 'Sudan',\n",
       "       'Suriname', 'Tajikistan', 'Sweden', 'Switzerland', 'Syria',\n",
       "       'Thailand', 'Togo', 'Tonga', 'Tunisia', 'Turkey',\n",
       "       'United Arab Emirates', 'Uganda', 'UK', 'Ukraine', 'USA',\n",
       "       'Uruguay', 'Uzbekistan', 'Vietnam', 'Zambia', 'Belgium',\n",
       "       'Luxembourg', 'Serbia', 'Montenegro', 'China'], dtype=object)"
      ]
     },
     "execution_count": 56,
     "metadata": {},
     "output_type": "execute_result"
    }
   ],
   "source": [
    "test['country'].unique()"
   ]
  },
  {
   "cell_type": "code",
   "execution_count": 44,
   "metadata": {},
   "outputs": [],
   "source": [
    "oly = pd.read_csv('countryMatchOlympics.csv', names='a', squeeze=True)"
   ]
  },
  {
   "cell_type": "code",
   "execution_count": 45,
   "metadata": {},
   "outputs": [
    {
     "data": {
      "text/plain": [
       "pandas.core.series.Series"
      ]
     },
     "execution_count": 45,
     "metadata": {},
     "output_type": "execute_result"
    }
   ],
   "source": [
    "type(oly)"
   ]
  },
  {
   "cell_type": "code",
   "execution_count": 46,
   "metadata": {},
   "outputs": [],
   "source": [
    "delete = []\n",
    "testlist = test['country'].unique()\n",
    "for i in testlist:\n",
    "    if i not in list(oly):\n",
    "        delete.append(i)"
   ]
  },
  {
   "cell_type": "code",
   "execution_count": 47,
   "metadata": {},
   "outputs": [
    {
     "data": {
      "text/plain": [
       "71"
      ]
     },
     "execution_count": 47,
     "metadata": {},
     "output_type": "execute_result"
    }
   ],
   "source": [
    "len(delete)"
   ]
  },
  {
   "cell_type": "code",
   "execution_count": 48,
   "metadata": {},
   "outputs": [
    {
     "data": {
      "text/plain": [
       "True"
      ]
     },
     "execution_count": 48,
     "metadata": {},
     "output_type": "execute_result"
    }
   ],
   "source": [
    "'Yugoslav SFR' in delete"
   ]
  },
  {
   "cell_type": "code",
   "execution_count": 49,
   "metadata": {},
   "outputs": [],
   "source": [
    "# cleans up country list to match Olympic dataset\n",
    "for i in delete:\n",
    "    test['country'].replace(i, np.nan, inplace=True)\n",
    "test.dropna(axis=0, subset=['country'], inplace=True)"
   ]
  },
  {
   "cell_type": "code",
   "execution_count": 50,
   "metadata": {},
   "outputs": [
    {
     "data": {
      "text/plain": [
       "122"
      ]
     },
     "execution_count": 50,
     "metadata": {},
     "output_type": "execute_result"
    }
   ],
   "source": [
    "len(test['country'].unique())"
   ]
  },
  {
   "cell_type": "code",
   "execution_count": 57,
   "metadata": {},
   "outputs": [
    {
     "data": {
      "text/plain": [
       "Index(['country', 'year', 'population', 'GDP'], dtype='object')"
      ]
     },
     "execution_count": 57,
     "metadata": {},
     "output_type": "execute_result"
    }
   ],
   "source": [
    "test.columns"
   ]
  },
  {
   "cell_type": "code",
   "execution_count": 60,
   "metadata": {},
   "outputs": [],
   "source": [
    "test['year'] = pd.to_datetime(test['year'], format='%Y')"
   ]
  },
  {
   "cell_type": "code",
   "execution_count": 61,
   "metadata": {},
   "outputs": [
    {
     "data": {
      "text/plain": [
       "0    1992-01-01\n",
       "10   1993-01-01\n",
       "20   1994-01-01\n",
       "30   1995-01-01\n",
       "40   1996-01-01\n",
       "Name: year, dtype: datetime64[ns]"
      ]
     },
     "execution_count": 61,
     "metadata": {},
     "output_type": "execute_result"
    }
   ],
   "source": [
    "test['year'].head()"
   ]
  },
  {
   "cell_type": "code",
   "execution_count": 62,
   "metadata": {},
   "outputs": [],
   "source": [
    "# test.to_csv(\"CountryYearPopGDP.csv\", index=False)"
   ]
  },
  {
   "cell_type": "code",
   "execution_count": null,
   "metadata": {},
   "outputs": [],
   "source": []
  }
 ],
 "metadata": {
  "kernelspec": {
   "display_name": "Python 3",
   "language": "python",
   "name": "python3"
  },
  "language_info": {
   "codemirror_mode": {
    "name": "ipython",
    "version": 3
   },
   "file_extension": ".py",
   "mimetype": "text/x-python",
   "name": "python",
   "nbconvert_exporter": "python",
   "pygments_lexer": "ipython3",
   "version": "3.6.5"
  }
 },
 "nbformat": 4,
 "nbformat_minor": 2
}
